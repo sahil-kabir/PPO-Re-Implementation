{
 "cells": [
  {
   "cell_type": "code",
   "execution_count": 36,
   "metadata": {},
   "outputs": [],
   "source": [
    "import numpy as np\n",
    "import torch\n",
    "from torch import nn\n",
    "from torch.distributions import Categorical\n",
    "import gymnasium as gym\n",
    "\n",
    "class FFNetwork(nn.Module):\n",
    "    def __init__(self, in_dim, out_dim):\n",
    "        super().__init__()\n",
    "        self.sequential = nn.Sequential(\n",
    "            nn.Linear(in_dim, 64),\n",
    "            nn.Tanh(),\n",
    "            nn.Linear(64, 64),\n",
    "            nn.Tanh(),\n",
    "            nn.Linear(64, out_dim)\n",
    "        )\n",
    "    \n",
    "    def forward(self, input):\n",
    "        input = torch.tensor(input)\n",
    "        if len(input.shape) == 1:\n",
    "            input = input.unsqueeze(0)\n",
    "        return self.sequential(input)"
   ]
  },
  {
   "cell_type": "code",
   "execution_count": null,
   "metadata": {},
   "outputs": [],
   "source": [
    "def create_trajectories(env, actor, timesteps):\n",
    "    states = []\n",
    "    state_terminal_indicator = []\n",
    "    state_terminal_indicator.append(True)\n",
    "    actions = []\n",
    "    rewards = []\n",
    "    logodds = []\n",
    "    obs, _ = env.reset()\n",
    "    while (timesteps >= 0) or (not terminated): # let the last episode finish\n",
    "        timesteps = timesteps - 1\n",
    "        states.append(obs)\n",
    "        logits = actor(obs)\n",
    "        dist = Categorical(logits=logits)\n",
    "        action = dist.sample()\n",
    "\n",
    "        logodds.append(dist.log_prob(action).item())\n",
    "        actions.append(action.item())\n",
    "        obs, reward, terminated, _, _ = env.step(actions[-1])\n",
    "        rewards.append(reward)\n",
    "        state_terminal_indicator.append(terminated)\n",
    "        if terminated:\n",
    "            obs, _ = env.reset()\n",
    "\n",
    "    return np.array(states), np.array(actions), np.array(logodds), np.array(rewards), np.array(state_terminal_indicator)\n",
    "\n",
    "def validate(env, actor):\n",
    "    seeds = [3, 17, 42, 8, 29, 567, 91, 1400, 67, 23, 888, 5, 37, 72, 59990]\n",
    "    score = 0\n",
    "    for seed in seeds:\n",
    "        obs, _ = env.reset(seed=seed)\n",
    "        terminated = False\n",
    "        while not terminated:\n",
    "            obs, reward, terminated, _, _ = env.step(actor(obs).argmax().item())\n",
    "            score += reward\n",
    "    return score/len(seeds)"
   ]
  },
  {
   "cell_type": "code",
   "execution_count": 39,
   "metadata": {},
   "outputs": [],
   "source": [
    "def GAE(critic, states, starts, rewards, gamma=0.99, lbda=0.95):\n",
    "    timesteps = len(states)\n",
    "    A = np.zeros(timesteps)\n",
    "    delta = np.zeros(timesteps)\n",
    "    \n",
    "    for t in range(timesteps - 1):\n",
    "        delta[t] = rewards[t] + gamma * critic(states[t+1]).item() * int(not starts[t+1]) - critic(states[t]).item()\n",
    "    \n",
    "    for t in reversed(range(timesteps - 1)):\n",
    "        A[t] = delta[t] + gamma * lbda * A[t+1] * int(not starts[t+1])\n",
    "\n",
    "    return A"
   ]
  },
  {
   "cell_type": "code",
   "execution_count": 40,
   "metadata": {},
   "outputs": [],
   "source": [
    "# Figure out that stuff with the adv - states mismatch\n",
    "\n",
    "def UpdatePPO(actor, critic, optimizer_actor, optimizer_critic,\n",
    "              states, advantages, actions, rewards, old_logodds,\n",
    "              clip_ratio=0.2,\n",
    "              epochs=10,\n",
    "              batch_size=64):\n",
    "    for _ in range(epochs):\n",
    "        indeces = np.arange(len(states))\n",
    "        np.random.shuffle(indeces)\n",
    "        for start in range(0, len(states), batch_size):\n",
    "            end = start + batch_size\n",
    "            idx = indeces[start:end]\n",
    "            s = states[idx]\n",
    "            a = torch.tensor(actions[idx], dtype=torch.int64)\n",
    "            lo = torch.tensor(old_logodds[idx], dtype=torch.float32) \n",
    "            r = torch.tensor(rewards[idx], dtype=torch.float32) \n",
    "            adv = torch.tensor(advantages[idx], dtype=torch.float32)\n",
    "\n",
    "            optimizer_actor.zero_grad()\n",
    "            optimizer_critic.zero_grad()\n",
    "\n",
    "            ratio = torch.exp(Categorical(logits=actor(s)).log_prob(a) - lo)\n",
    "            loss1, loss2 = ratio * adv, torch.clamp(ratio, 1 - clip_ratio, 1 + clip_ratio) * adv\n",
    "            a_loss = -1 * torch.min(loss1, loss2).mean()\n",
    "            v_loss = ((critic(s) - r)**2).mean()\n",
    "\n",
    "            a_loss.backward()\n",
    "            v_loss.backward()\n",
    "            optimizer_actor.step()\n",
    "            optimizer_critic.step()"
   ]
  },
  {
   "cell_type": "code",
   "execution_count": 42,
   "metadata": {},
   "outputs": [],
   "source": [
    "import gymnasium as gym\n",
    "\n",
    "def train_ppo(env_name=\"CartPole-v1\", render=\"human\", iterations=200, steps_per_iter=2048, k_epochs=10, lr_actor=3e-4, lr_critic=3e-4, clip_ratio=0.2, batch_size=64, gamma=0.99, lbda=0.95, device=\"cpu\"):\n",
    "    env = gym.make(env_name, render_mode=render)\n",
    "\n",
    "    actor = FFNetwork(env.observation_space.shape[0], env.action_space.n)\n",
    "    critic = FFNetwork(env.observation_space.shape[0], 1)\n",
    "    optimizer_actor = torch.optim.Adam(actor.parameters(), lr=lr_actor)\n",
    "    optimizer_critic = torch.optim.Adam(critic.parameters(), lr=lr_critic)\n",
    "\n",
    "    best_score = 0\n",
    "    best_model = actor.state_dict()\n",
    "\n",
    "    avg_rewards = []\n",
    "    for i in range(iterations):\n",
    "        states, actions, old_logodds, rewards, starts = create_trajectories(env, actor, steps_per_iter)\n",
    "        advantages = GAE(critic, states, starts, rewards)\n",
    "        UpdatePPO(actor, critic, optimizer_actor, optimizer_critic,\n",
    "              states, advantages, actions, rewards, old_logodds,\n",
    "              clip_ratio=clip_ratio,\n",
    "              epochs=k_epochs,\n",
    "              batch_size=batch_size)\n",
    "        s = validate(env, actor)\n",
    "        avg_rewards.append(s)\n",
    "        print(f\"Iteration {i} complete. score: {s}\")\n",
    "        if s >= best_score:\n",
    "            best_score = s\n",
    "            best_model = actor.state_dict()\n",
    "    \n",
    "    actor.load_state_dict(best_model)\n",
    "    env.close()\n",
    "    return actor, avg_rewards\n",
    "        "
   ]
  },
  {
   "cell_type": "code",
   "execution_count": 49,
   "metadata": {},
   "outputs": [
    {
     "name": "stdout",
     "output_type": "stream",
     "text": [
      "Iteration 0 complete. score: 9.4\n",
      "Iteration 1 complete. score: 9.533333333333333\n",
      "Iteration 2 complete. score: 9.666666666666666\n",
      "Iteration 3 complete. score: 9.866666666666667\n",
      "Iteration 4 complete. score: 10.2\n",
      "Iteration 5 complete. score: 10.6\n",
      "Iteration 6 complete. score: 11.0\n",
      "Iteration 7 complete. score: 11.866666666666667\n",
      "Iteration 8 complete. score: 12.4\n",
      "Iteration 9 complete. score: 13.0\n",
      "Iteration 10 complete. score: 13.733333333333333\n",
      "Iteration 11 complete. score: 14.333333333333334\n",
      "Iteration 12 complete. score: 15.466666666666667\n",
      "Iteration 13 complete. score: 16.333333333333332\n",
      "Iteration 14 complete. score: 17.2\n",
      "Iteration 15 complete. score: 18.133333333333333\n",
      "Iteration 16 complete. score: 18.666666666666668\n",
      "Iteration 17 complete. score: 20.133333333333333\n",
      "Iteration 18 complete. score: 22.2\n",
      "Iteration 19 complete. score: 23.266666666666666\n",
      "Iteration 20 complete. score: 24.733333333333334\n",
      "Iteration 21 complete. score: 25.333333333333332\n",
      "Iteration 22 complete. score: 26.266666666666666\n",
      "Iteration 23 complete. score: 26.733333333333334\n",
      "Iteration 24 complete. score: 27.066666666666666\n",
      "Iteration 25 complete. score: 28.4\n",
      "Iteration 26 complete. score: 29.866666666666667\n",
      "Iteration 27 complete. score: 31.266666666666666\n",
      "Iteration 28 complete. score: 33.13333333333333\n",
      "Iteration 29 complete. score: 34.6\n",
      "Iteration 30 complete. score: 36.93333333333333\n",
      "Iteration 31 complete. score: 42.266666666666666\n",
      "Iteration 32 complete. score: 43.46666666666667\n",
      "Iteration 33 complete. score: 44.666666666666664\n",
      "Iteration 34 complete. score: 50.8\n",
      "Iteration 35 complete. score: 52.4\n",
      "Iteration 36 complete. score: 54.733333333333334\n",
      "Iteration 37 complete. score: 54.46666666666667\n",
      "Iteration 38 complete. score: 65.46666666666667\n",
      "Iteration 39 complete. score: 67.13333333333334\n",
      "Iteration 40 complete. score: 69.2\n",
      "Iteration 41 complete. score: 76.06666666666666\n",
      "Iteration 42 complete. score: 76.06666666666666\n",
      "Iteration 43 complete. score: 105.66666666666667\n",
      "Iteration 44 complete. score: 94.33333333333333\n",
      "Iteration 45 complete. score: 94.4\n",
      "Iteration 46 complete. score: 99.26666666666667\n",
      "Iteration 47 complete. score: 93.06666666666666\n",
      "Iteration 48 complete. score: 99.8\n",
      "Iteration 49 complete. score: 97.73333333333333\n",
      "Iteration 50 complete. score: 102.26666666666667\n",
      "Iteration 51 complete. score: 100.73333333333333\n",
      "Iteration 52 complete. score: 101.4\n",
      "Iteration 53 complete. score: 102.13333333333334\n",
      "Iteration 54 complete. score: 101.4\n",
      "Iteration 55 complete. score: 102.8\n",
      "Iteration 56 complete. score: 103.86666666666666\n",
      "Iteration 57 complete. score: 104.2\n",
      "Iteration 58 complete. score: 107.0\n",
      "Iteration 59 complete. score: 104.2\n",
      "Iteration 60 complete. score: 102.26666666666667\n",
      "Iteration 61 complete. score: 103.6\n",
      "Iteration 62 complete. score: 103.73333333333333\n",
      "Iteration 63 complete. score: 103.86666666666666\n",
      "Iteration 64 complete. score: 102.2\n",
      "Iteration 65 complete. score: 104.46666666666667\n",
      "Iteration 66 complete. score: 98.66666666666667\n",
      "Iteration 67 complete. score: 99.93333333333334\n",
      "Iteration 68 complete. score: 100.66666666666667\n",
      "Iteration 69 complete. score: 99.6\n",
      "Iteration 70 complete. score: 102.66666666666667\n",
      "Iteration 71 complete. score: 99.8\n",
      "Iteration 72 complete. score: 99.33333333333333\n",
      "Iteration 73 complete. score: 100.93333333333334\n",
      "Iteration 74 complete. score: 102.46666666666667\n",
      "Iteration 75 complete. score: 108.6\n",
      "Iteration 76 complete. score: 103.8\n",
      "Iteration 77 complete. score: 109.6\n",
      "Iteration 78 complete. score: 104.06666666666666\n",
      "Iteration 79 complete. score: 112.4\n",
      "Iteration 80 complete. score: 107.53333333333333\n",
      "Iteration 81 complete. score: 107.93333333333334\n",
      "Iteration 82 complete. score: 108.33333333333333\n",
      "Iteration 83 complete. score: 115.06666666666666\n",
      "Iteration 84 complete. score: 117.26666666666667\n",
      "Iteration 85 complete. score: 119.4\n",
      "Iteration 86 complete. score: 121.13333333333334\n",
      "Iteration 87 complete. score: 160.26666666666668\n",
      "Iteration 88 complete. score: 119.46666666666667\n",
      "Iteration 89 complete. score: 147.86666666666667\n",
      "Iteration 90 complete. score: 121.6\n",
      "Iteration 91 complete. score: 143.06666666666666\n",
      "Iteration 92 complete. score: 183.53333333333333\n",
      "Iteration 93 complete. score: 144.53333333333333\n",
      "Iteration 94 complete. score: 186.66666666666666\n",
      "Iteration 95 complete. score: 193.2\n",
      "Iteration 96 complete. score: 248.33333333333334\n",
      "Iteration 97 complete. score: 258.1333333333333\n",
      "Iteration 98 complete. score: 271.93333333333334\n",
      "Iteration 99 complete. score: 287.0\n",
      "Iteration 100 complete. score: 287.53333333333336\n",
      "Iteration 101 complete. score: 176.93333333333334\n",
      "Iteration 102 complete. score: 192.2\n",
      "Iteration 103 complete. score: 315.3333333333333\n",
      "Iteration 104 complete. score: 273.0\n",
      "Iteration 105 complete. score: 213.13333333333333\n",
      "Iteration 106 complete. score: 203.8\n",
      "Iteration 107 complete. score: 208.06666666666666\n",
      "Iteration 108 complete. score: 199.33333333333334\n",
      "Iteration 109 complete. score: 214.4\n",
      "Iteration 110 complete. score: 333.46666666666664\n",
      "Iteration 111 complete. score: 239.26666666666668\n",
      "Iteration 112 complete. score: 218.53333333333333\n",
      "Iteration 113 complete. score: 275.46666666666664\n",
      "Iteration 114 complete. score: 270.26666666666665\n",
      "Iteration 115 complete. score: 332.1333333333333\n",
      "Iteration 116 complete. score: 236.06666666666666\n",
      "Iteration 117 complete. score: 254.13333333333333\n",
      "Iteration 118 complete. score: 253.73333333333332\n",
      "Iteration 119 complete. score: 259.6666666666667\n",
      "Iteration 120 complete. score: 275.1333333333333\n",
      "Iteration 121 complete. score: 309.0\n",
      "Iteration 122 complete. score: 282.8\n",
      "Iteration 123 complete. score: 209.66666666666666\n",
      "Iteration 124 complete. score: 266.1333333333333\n",
      "Iteration 125 complete. score: 287.46666666666664\n",
      "Iteration 126 complete. score: 288.1333333333333\n",
      "Iteration 127 complete. score: 275.6666666666667\n",
      "Iteration 128 complete. score: 308.3333333333333\n",
      "Iteration 129 complete. score: 293.2\n",
      "Iteration 130 complete. score: 324.46666666666664\n",
      "Iteration 131 complete. score: 333.6666666666667\n",
      "Iteration 132 complete. score: 241.86666666666667\n",
      "Iteration 133 complete. score: 242.4\n",
      "Iteration 134 complete. score: 297.93333333333334\n",
      "Iteration 135 complete. score: 319.26666666666665\n",
      "Iteration 136 complete. score: 314.0\n",
      "Iteration 137 complete. score: 248.93333333333334\n",
      "Iteration 138 complete. score: 255.93333333333334\n",
      "Iteration 139 complete. score: 253.73333333333332\n",
      "Iteration 140 complete. score: 262.8\n",
      "Iteration 141 complete. score: 280.1333333333333\n",
      "Iteration 142 complete. score: 359.8666666666667\n",
      "Iteration 143 complete. score: 504.6\n",
      "Iteration 144 complete. score: 378.06666666666666\n",
      "Iteration 145 complete. score: 265.4\n",
      "Iteration 146 complete. score: 276.6\n",
      "Iteration 147 complete. score: 270.8\n",
      "Iteration 148 complete. score: 400.3333333333333\n",
      "Iteration 149 complete. score: 454.26666666666665\n"
     ]
    }
   ],
   "source": [
    "actor, avg_rewards = train_ppo(render=None, iterations=150, steps_per_iter=2500, k_epochs=10, lr_actor=1e-6, lr_critic=1e-6, clip_ratio=0.2)"
   ]
  },
  {
   "cell_type": "code",
   "execution_count": null,
   "metadata": {},
   "outputs": [
    {
     "data": {
      "application/vnd.plotly.v1+json": {
       "config": {
        "plotlyServerURL": "https://plot.ly"
       },
       "data": [
        {
         "hovertemplate": "Iteration=%{x}<br>Score=%{y}<extra></extra>",
         "legendgroup": "",
         "line": {
          "color": "#636efa",
          "dash": "solid"
         },
         "marker": {
          "symbol": "circle"
         },
         "mode": "lines+markers",
         "name": "",
         "orientation": "v",
         "showlegend": false,
         "type": "scatter",
         "x": {
          "bdata": "AQACAAMABAAFAAYABwAIAAkACgALAAwADQAOAA8AEAARABIAEwAUABUAFgAXABgAGQAaABsAHAAdAB4AHwAgACEAIgAjACQAJQAmACcAKAApACoAKwAsAC0ALgAvADAAMQAyADMANAA1ADYANwA4ADkAOgA7ADwAPQA+AD8AQABBAEIAQwBEAEUARgBHAEgASQBKAEsATABNAE4ATwBQAFEAUgBTAFQAVQBWAFcAWABZAFoAWwBcAF0AXgBfAGAAYQBiAGMAZABlAGYAZwBoAGkAagBrAGwAbQBuAG8AcABxAHIAcwB0AHUAdgB3AHgAeQB6AHsAfAB9AH4AfwCAAIEAggCDAIQAhQCGAIcAiACJAIoAiwCMAI0AjgCPAJAAkQCSAJMAlACVAJYA",
          "dtype": "i2"
         },
         "xaxis": "x",
         "y": {
          "bdata": "zczMzMzMIkAREREREREjQFVVVVVVVSNAvLu7u7u7I0BmZmZmZmYkQDMzMzMzMyVAAAAAAAAAJkC8u7u7u7snQM3MzMzMzChAAAAAAAAAKkB3d3d3d3crQKuqqqqqqixA7+7u7u7uLkBVVVVVVVUwQDMzMzMzMzFAIiIiIiIiMkCrqqqqqqoyQCIiIiIiIjRAMzMzMzMzNkBEREREREQ3QLy7u7u7uzhAVVVVVVVVOUBEREREREQ6QLy7u7u7uzpAERERERERO0BmZmZmZmY8QN7d3d3d3T1AREREREREP0AREREREZFAQM3MzMzMTEFAd3d3d3d3QkAiIiIiIiJFQLy7u7u7u0VAVVVVVVVVRkBmZmZmZmZJQDMzMzMzM0pA3t3d3d1dS0C8u7u7uztLQN7d3d3dXVBAiYiIiIjIUEDNzMzMzExRQEREREREBFNAREREREQEU0CrqqqqqmpaQFVVVVVVlVdAmpmZmZmZV0AREREREdFYQERERERERFdAMzMzMzPzWEDv7u7u7m5YQBERERERkVlA7+7u7u4uWUCamZmZmVlZQImIiIiIiFlAmpmZmZlZWUAzMzMzM7NZQHd3d3d391lAzczMzMwMWkAAAAAAAMBaQM3MzMzMDFpAERERERGRWUBmZmZmZuZZQO/u7u7u7llAd3d3d3f3WUDNzMzMzIxZQN7d3d3dHVpAq6qqqqqqWEC8u7u7u/tYQKuqqqqqKllAZmZmZmbmWECrqqqqqqpZQDMzMzMz81hAVVVVVVXVWEC8u7u7uztZQN7d3d3dnVlAZmZmZmYmW0AzMzMzM/NZQGZmZmZmZltAREREREQEWkCamZmZmRlcQCIiIiIi4lpAvLu7u7v7WkBVVVVVVRVbQERERERExFxAERERERFRXUCamZmZmdldQImIiIiISF5AiYiIiIgIZEDe3d3d3d1dQLy7u7u7e2JAZmZmZmZmXkAiIiIiIuJhQBERERER8WZAERERERERYkBVVVVVVVVnQGZmZmZmJmhAq6qqqqoKb0AiIiIiIiJwQO/u7u7u/nBAAAAAAADwcUCJiIiIiPhxQN7d3d3dHWZAZmZmZmYGaEBVVVVVVbVzQAAAAAAAEHFARERERESkakCamZmZmXlpQCIiIiIiAmpAq6qqqqrqaEDNzMzMzMxqQHd3d3d313RAiYiIiIjobUAREREREVFrQHd3d3d3N3FARERERETkcEAiIiIiIsJ0QCIiIiIigm1ARERERETEb0B3d3d3d7dvQKuqqqqqOnBAIiIiIiIycUAAAAAAAFBzQM3MzMzMrHFAVVVVVVU1akAiIiIiIqJwQHd3d3d393FAIiIiIiICckCrqqqqqjpxQFVVVVVVRXNAMzMzMzNTckB3d3d3d0d0QKuqqqqq2nRAvLu7u7s7bkDNzMzMzExuQO/u7u7unnJARERERET0c0AAAAAAAKBzQN7d3d3dHW9A3t3d3d39b0B3d3d3d7dvQM3MzMzMbHBAIiIiIiKCcUDe3d3d3X12QJqZmZmZiX9AERERERGhd0BmZmZmZpZwQJqZmZmZSXFAzczMzMzscEBVVVVVVQV5QEREREREZHxA",
          "dtype": "f8"
         },
         "yaxis": "y"
        }
       ],
       "layout": {
        "height": 500,
        "legend": {
         "tracegroupgap": 0
        },
        "template": {
         "data": {
          "bar": [
           {
            "error_x": {
             "color": "#2a3f5f"
            },
            "error_y": {
             "color": "#2a3f5f"
            },
            "marker": {
             "line": {
              "color": "#E5ECF6",
              "width": 0.5
             },
             "pattern": {
              "fillmode": "overlay",
              "size": 10,
              "solidity": 0.2
             }
            },
            "type": "bar"
           }
          ],
          "barpolar": [
           {
            "marker": {
             "line": {
              "color": "#E5ECF6",
              "width": 0.5
             },
             "pattern": {
              "fillmode": "overlay",
              "size": 10,
              "solidity": 0.2
             }
            },
            "type": "barpolar"
           }
          ],
          "carpet": [
           {
            "aaxis": {
             "endlinecolor": "#2a3f5f",
             "gridcolor": "white",
             "linecolor": "white",
             "minorgridcolor": "white",
             "startlinecolor": "#2a3f5f"
            },
            "baxis": {
             "endlinecolor": "#2a3f5f",
             "gridcolor": "white",
             "linecolor": "white",
             "minorgridcolor": "white",
             "startlinecolor": "#2a3f5f"
            },
            "type": "carpet"
           }
          ],
          "choropleth": [
           {
            "colorbar": {
             "outlinewidth": 0,
             "ticks": ""
            },
            "type": "choropleth"
           }
          ],
          "contour": [
           {
            "colorbar": {
             "outlinewidth": 0,
             "ticks": ""
            },
            "colorscale": [
             [
              0,
              "#0d0887"
             ],
             [
              0.1111111111111111,
              "#46039f"
             ],
             [
              0.2222222222222222,
              "#7201a8"
             ],
             [
              0.3333333333333333,
              "#9c179e"
             ],
             [
              0.4444444444444444,
              "#bd3786"
             ],
             [
              0.5555555555555556,
              "#d8576b"
             ],
             [
              0.6666666666666666,
              "#ed7953"
             ],
             [
              0.7777777777777778,
              "#fb9f3a"
             ],
             [
              0.8888888888888888,
              "#fdca26"
             ],
             [
              1,
              "#f0f921"
             ]
            ],
            "type": "contour"
           }
          ],
          "contourcarpet": [
           {
            "colorbar": {
             "outlinewidth": 0,
             "ticks": ""
            },
            "type": "contourcarpet"
           }
          ],
          "heatmap": [
           {
            "colorbar": {
             "outlinewidth": 0,
             "ticks": ""
            },
            "colorscale": [
             [
              0,
              "#0d0887"
             ],
             [
              0.1111111111111111,
              "#46039f"
             ],
             [
              0.2222222222222222,
              "#7201a8"
             ],
             [
              0.3333333333333333,
              "#9c179e"
             ],
             [
              0.4444444444444444,
              "#bd3786"
             ],
             [
              0.5555555555555556,
              "#d8576b"
             ],
             [
              0.6666666666666666,
              "#ed7953"
             ],
             [
              0.7777777777777778,
              "#fb9f3a"
             ],
             [
              0.8888888888888888,
              "#fdca26"
             ],
             [
              1,
              "#f0f921"
             ]
            ],
            "type": "heatmap"
           }
          ],
          "histogram": [
           {
            "marker": {
             "pattern": {
              "fillmode": "overlay",
              "size": 10,
              "solidity": 0.2
             }
            },
            "type": "histogram"
           }
          ],
          "histogram2d": [
           {
            "colorbar": {
             "outlinewidth": 0,
             "ticks": ""
            },
            "colorscale": [
             [
              0,
              "#0d0887"
             ],
             [
              0.1111111111111111,
              "#46039f"
             ],
             [
              0.2222222222222222,
              "#7201a8"
             ],
             [
              0.3333333333333333,
              "#9c179e"
             ],
             [
              0.4444444444444444,
              "#bd3786"
             ],
             [
              0.5555555555555556,
              "#d8576b"
             ],
             [
              0.6666666666666666,
              "#ed7953"
             ],
             [
              0.7777777777777778,
              "#fb9f3a"
             ],
             [
              0.8888888888888888,
              "#fdca26"
             ],
             [
              1,
              "#f0f921"
             ]
            ],
            "type": "histogram2d"
           }
          ],
          "histogram2dcontour": [
           {
            "colorbar": {
             "outlinewidth": 0,
             "ticks": ""
            },
            "colorscale": [
             [
              0,
              "#0d0887"
             ],
             [
              0.1111111111111111,
              "#46039f"
             ],
             [
              0.2222222222222222,
              "#7201a8"
             ],
             [
              0.3333333333333333,
              "#9c179e"
             ],
             [
              0.4444444444444444,
              "#bd3786"
             ],
             [
              0.5555555555555556,
              "#d8576b"
             ],
             [
              0.6666666666666666,
              "#ed7953"
             ],
             [
              0.7777777777777778,
              "#fb9f3a"
             ],
             [
              0.8888888888888888,
              "#fdca26"
             ],
             [
              1,
              "#f0f921"
             ]
            ],
            "type": "histogram2dcontour"
           }
          ],
          "mesh3d": [
           {
            "colorbar": {
             "outlinewidth": 0,
             "ticks": ""
            },
            "type": "mesh3d"
           }
          ],
          "parcoords": [
           {
            "line": {
             "colorbar": {
              "outlinewidth": 0,
              "ticks": ""
             }
            },
            "type": "parcoords"
           }
          ],
          "pie": [
           {
            "automargin": true,
            "type": "pie"
           }
          ],
          "scatter": [
           {
            "fillpattern": {
             "fillmode": "overlay",
             "size": 10,
             "solidity": 0.2
            },
            "type": "scatter"
           }
          ],
          "scatter3d": [
           {
            "line": {
             "colorbar": {
              "outlinewidth": 0,
              "ticks": ""
             }
            },
            "marker": {
             "colorbar": {
              "outlinewidth": 0,
              "ticks": ""
             }
            },
            "type": "scatter3d"
           }
          ],
          "scattercarpet": [
           {
            "marker": {
             "colorbar": {
              "outlinewidth": 0,
              "ticks": ""
             }
            },
            "type": "scattercarpet"
           }
          ],
          "scattergeo": [
           {
            "marker": {
             "colorbar": {
              "outlinewidth": 0,
              "ticks": ""
             }
            },
            "type": "scattergeo"
           }
          ],
          "scattergl": [
           {
            "marker": {
             "colorbar": {
              "outlinewidth": 0,
              "ticks": ""
             }
            },
            "type": "scattergl"
           }
          ],
          "scattermap": [
           {
            "marker": {
             "colorbar": {
              "outlinewidth": 0,
              "ticks": ""
             }
            },
            "type": "scattermap"
           }
          ],
          "scattermapbox": [
           {
            "marker": {
             "colorbar": {
              "outlinewidth": 0,
              "ticks": ""
             }
            },
            "type": "scattermapbox"
           }
          ],
          "scatterpolar": [
           {
            "marker": {
             "colorbar": {
              "outlinewidth": 0,
              "ticks": ""
             }
            },
            "type": "scatterpolar"
           }
          ],
          "scatterpolargl": [
           {
            "marker": {
             "colorbar": {
              "outlinewidth": 0,
              "ticks": ""
             }
            },
            "type": "scatterpolargl"
           }
          ],
          "scatterternary": [
           {
            "marker": {
             "colorbar": {
              "outlinewidth": 0,
              "ticks": ""
             }
            },
            "type": "scatterternary"
           }
          ],
          "surface": [
           {
            "colorbar": {
             "outlinewidth": 0,
             "ticks": ""
            },
            "colorscale": [
             [
              0,
              "#0d0887"
             ],
             [
              0.1111111111111111,
              "#46039f"
             ],
             [
              0.2222222222222222,
              "#7201a8"
             ],
             [
              0.3333333333333333,
              "#9c179e"
             ],
             [
              0.4444444444444444,
              "#bd3786"
             ],
             [
              0.5555555555555556,
              "#d8576b"
             ],
             [
              0.6666666666666666,
              "#ed7953"
             ],
             [
              0.7777777777777778,
              "#fb9f3a"
             ],
             [
              0.8888888888888888,
              "#fdca26"
             ],
             [
              1,
              "#f0f921"
             ]
            ],
            "type": "surface"
           }
          ],
          "table": [
           {
            "cells": {
             "fill": {
              "color": "#EBF0F8"
             },
             "line": {
              "color": "white"
             }
            },
            "header": {
             "fill": {
              "color": "#C8D4E3"
             },
             "line": {
              "color": "white"
             }
            },
            "type": "table"
           }
          ]
         },
         "layout": {
          "annotationdefaults": {
           "arrowcolor": "#2a3f5f",
           "arrowhead": 0,
           "arrowwidth": 1
          },
          "autotypenumbers": "strict",
          "coloraxis": {
           "colorbar": {
            "outlinewidth": 0,
            "ticks": ""
           }
          },
          "colorscale": {
           "diverging": [
            [
             0,
             "#8e0152"
            ],
            [
             0.1,
             "#c51b7d"
            ],
            [
             0.2,
             "#de77ae"
            ],
            [
             0.3,
             "#f1b6da"
            ],
            [
             0.4,
             "#fde0ef"
            ],
            [
             0.5,
             "#f7f7f7"
            ],
            [
             0.6,
             "#e6f5d0"
            ],
            [
             0.7,
             "#b8e186"
            ],
            [
             0.8,
             "#7fbc41"
            ],
            [
             0.9,
             "#4d9221"
            ],
            [
             1,
             "#276419"
            ]
           ],
           "sequential": [
            [
             0,
             "#0d0887"
            ],
            [
             0.1111111111111111,
             "#46039f"
            ],
            [
             0.2222222222222222,
             "#7201a8"
            ],
            [
             0.3333333333333333,
             "#9c179e"
            ],
            [
             0.4444444444444444,
             "#bd3786"
            ],
            [
             0.5555555555555556,
             "#d8576b"
            ],
            [
             0.6666666666666666,
             "#ed7953"
            ],
            [
             0.7777777777777778,
             "#fb9f3a"
            ],
            [
             0.8888888888888888,
             "#fdca26"
            ],
            [
             1,
             "#f0f921"
            ]
           ],
           "sequentialminus": [
            [
             0,
             "#0d0887"
            ],
            [
             0.1111111111111111,
             "#46039f"
            ],
            [
             0.2222222222222222,
             "#7201a8"
            ],
            [
             0.3333333333333333,
             "#9c179e"
            ],
            [
             0.4444444444444444,
             "#bd3786"
            ],
            [
             0.5555555555555556,
             "#d8576b"
            ],
            [
             0.6666666666666666,
             "#ed7953"
            ],
            [
             0.7777777777777778,
             "#fb9f3a"
            ],
            [
             0.8888888888888888,
             "#fdca26"
            ],
            [
             1,
             "#f0f921"
            ]
           ]
          },
          "colorway": [
           "#636efa",
           "#EF553B",
           "#00cc96",
           "#ab63fa",
           "#FFA15A",
           "#19d3f3",
           "#FF6692",
           "#B6E880",
           "#FF97FF",
           "#FECB52"
          ],
          "font": {
           "color": "#2a3f5f"
          },
          "geo": {
           "bgcolor": "white",
           "lakecolor": "white",
           "landcolor": "#E5ECF6",
           "showlakes": true,
           "showland": true,
           "subunitcolor": "white"
          },
          "hoverlabel": {
           "align": "left"
          },
          "hovermode": "closest",
          "mapbox": {
           "style": "light"
          },
          "paper_bgcolor": "white",
          "plot_bgcolor": "#E5ECF6",
          "polar": {
           "angularaxis": {
            "gridcolor": "white",
            "linecolor": "white",
            "ticks": ""
           },
           "bgcolor": "#E5ECF6",
           "radialaxis": {
            "gridcolor": "white",
            "linecolor": "white",
            "ticks": ""
           }
          },
          "scene": {
           "xaxis": {
            "backgroundcolor": "#E5ECF6",
            "gridcolor": "white",
            "gridwidth": 2,
            "linecolor": "white",
            "showbackground": true,
            "ticks": "",
            "zerolinecolor": "white"
           },
           "yaxis": {
            "backgroundcolor": "#E5ECF6",
            "gridcolor": "white",
            "gridwidth": 2,
            "linecolor": "white",
            "showbackground": true,
            "ticks": "",
            "zerolinecolor": "white"
           },
           "zaxis": {
            "backgroundcolor": "#E5ECF6",
            "gridcolor": "white",
            "gridwidth": 2,
            "linecolor": "white",
            "showbackground": true,
            "ticks": "",
            "zerolinecolor": "white"
           }
          },
          "shapedefaults": {
           "line": {
            "color": "#2a3f5f"
           }
          },
          "ternary": {
           "aaxis": {
            "gridcolor": "white",
            "linecolor": "white",
            "ticks": ""
           },
           "baxis": {
            "gridcolor": "white",
            "linecolor": "white",
            "ticks": ""
           },
           "bgcolor": "#E5ECF6",
           "caxis": {
            "gridcolor": "white",
            "linecolor": "white",
            "ticks": ""
           }
          },
          "title": {
           "x": 0.05
          },
          "xaxis": {
           "automargin": true,
           "gridcolor": "white",
           "linecolor": "white",
           "ticks": "",
           "title": {
            "standoff": 15
           },
           "zerolinecolor": "white",
           "zerolinewidth": 2
          },
          "yaxis": {
           "automargin": true,
           "gridcolor": "white",
           "linecolor": "white",
           "ticks": "",
           "title": {
            "standoff": 15
           },
           "zerolinecolor": "white",
           "zerolinewidth": 2
          }
         }
        },
        "title": {
         "text": "Score per Iteration"
        },
        "width": 900,
        "xaxis": {
         "anchor": "y",
         "domain": [
          0,
          1
         ],
         "title": {
          "text": "Iteration"
         }
        },
        "yaxis": {
         "anchor": "x",
         "domain": [
          0,
          1
         ],
         "title": {
          "text": "Score"
         }
        }
       }
      }
     },
     "metadata": {},
     "output_type": "display_data"
    }
   ],
   "source": [
    "import pandas as pd\n",
    "import plotly.express as px\n",
    "\n",
    "df = pd.DataFrame({'Iteration': range(1, len(avg_rewards) + 1), 'Score': avg_rewards})\n",
    "fig = px.line(df, x='Iteration', y='Score', title='Score per Iteration', markers=True, \n",
    "              width=900,\n",
    "              height=500)\n",
    "\n",
    "fig.show()"
   ]
  },
  {
   "cell_type": "code",
   "execution_count": 52,
   "metadata": {},
   "outputs": [],
   "source": [
    "def display(env_name, actor):\n",
    "    env = gym.make(env_name, render_mode=\"human\")\n",
    "    obs, _ = env.reset()\n",
    "    terminated = False\n",
    "    while not terminated:\n",
    "        obs, reward, terminated, _, _ = env.step(actor(obs).argmax().item())\n",
    "    env.close()\n",
    "\n",
    "display(\"CartPole-v1\", actor)"
   ]
  }
 ],
 "metadata": {
  "kernelspec": {
   "display_name": "research",
   "language": "python",
   "name": "python3"
  },
  "language_info": {
   "codemirror_mode": {
    "name": "ipython",
    "version": 3
   },
   "file_extension": ".py",
   "mimetype": "text/x-python",
   "name": "python",
   "nbconvert_exporter": "python",
   "pygments_lexer": "ipython3",
   "version": "3.13.1"
  }
 },
 "nbformat": 4,
 "nbformat_minor": 2
}
